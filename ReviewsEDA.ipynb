{
 "cells": [
  {
   "cell_type": "markdown",
   "id": "3e3d4d42",
   "metadata": {},
   "source": [
    "# Analysis of seasonality in Airbnb markets based on InsideAirbnb data\n",
    "Despite many shortcomings, [InsideAirbnb]('http://insideairbnb.com/get-the-data') is the *de facto* standard for analytics focused on the Airbnb marketplace.  It's the most common data source for academic papers in this area.  The reason is simple - [Airbnb]('https://www.airbnb.com/') is difficult to scrape, and very expensive to scrape at scale.\n",
    "The silver lining in using InsideAirbnb data is that while all the analyses are not accurate, they are all subject to the same bias.\n",
    "## Seasonality\n",
    "The objective of this analysis is to discover different seasonality patterns for different location, e.g. summer peaks at beach resorts and winter peaks at ski resort, as opposed to year-round popularity in metropolitan/urban areas.\n",
    "\n",
    "### Assumption\n",
    "I'm using the count of reviews as a proxy for the number of rentals.  While it's not entirely accurate, I believe it's just as good as the occupancy estimate from InsideAirbnb."
   ]
  },
  {
   "cell_type": "code",
   "execution_count": null,
   "id": "c7f92f7f",
   "metadata": {},
   "outputs": [],
   "source": [
    "import pandas as pd\n",
    "import numpy as np\n",
    "import seaborn as sns\n",
    "import matplotlib.pyplot as plt\n",
    "\n",
    "# import qgrid\n",
    "# pip install datetime_truncate\n",
    "# import datetime\n",
    "# from datetime_truncate import truncate\n"
   ]
  },
  {
   "cell_type": "code",
   "execution_count": null,
   "id": "9e11b7e1",
   "metadata": {},
   "outputs": [],
   "source": [
    "'''\n",
    "The future plan is to download data for all locations monitored by InsideAirbnb, but for proof of concept\n",
    "I'm focusing on the Asheville, NC area\n",
    "'''\n",
    "\n",
    "city = 'Asheville'"
   ]
  },
  {
   "cell_type": "code",
   "execution_count": null,
   "id": "6841b4c7",
   "metadata": {
    "scrolled": true
   },
   "outputs": [],
   "source": [
    "# dfl stands for dataframe of listings\n",
    "dfl = pd.read_csv(f'../Data/{city}/listings.csv')\n",
    "\n",
    "print(dfl.size)\n",
    "\n",
    "# l = qgrid.show_grid(dfl)\n",
    "# l"
   ]
  },
  {
   "cell_type": "code",
   "execution_count": null,
   "id": "83270199",
   "metadata": {
    "scrolled": true
   },
   "outputs": [],
   "source": [
    "# dfr stands for dataframe of reviews\n",
    "dfr = pd.read_csv(f'../Data/{city}/reviews.csv')\n",
    "\n",
    "# add year/month to get rid of the day of month granularity\n",
    "dfr['year_month'] = dfr['date'].str[0: 7]\n",
    "dfr['year'] = dfr['date'].str[0: 4].astype(int)\n",
    "dfr['month'] = dfr['date'].str[5: 7].astype(int)\n",
    "\n",
    "print(dfr.size)\n",
    "# r = qgrid.show_grid(dfr)\n",
    "# r"
   ]
  },
  {
   "cell_type": "code",
   "execution_count": null,
   "id": "2ca2b25c",
   "metadata": {
    "scrolled": false
   },
   "outputs": [],
   "source": [
    "dfr_year_month_revs = dfr.groupby(['year', 'month'])['listing_id'].agg(np.count_nonzero)\n",
    "dfr_year_month_revs = dfr_year_month_revs.reset_index(level=[0,1])\n",
    "dfr_year_month_revs.columns = ['year', 'month', 'reviews']\n",
    "\n",
    "dfr_year_month_revs"
   ]
  },
  {
   "cell_type": "code",
   "execution_count": null,
   "id": "e38d083f",
   "metadata": {},
   "outputs": [],
   "source": [
    "dfr_revs_per_month = dfr.groupby(['month'])['month'].agg(np.count_nonzero)\n",
    "dfr_revs_per_month = dfr_revs_per_month.to_frame()\n",
    "dfr_revs_per_month.columns = ['revs_per_month']\n",
    "print(type(dfr_revs_per_month))\n",
    "print(dfr_revs_per_month.columns)\n",
    "print(dfr_revs_per_month.dtypes)\n",
    "\n",
    "dfr_revs_per_month\n",
    "\n"
   ]
  },
  {
   "cell_type": "code",
   "execution_count": null,
   "id": "26fc44b5",
   "metadata": {},
   "outputs": [],
   "source": [
    "sns.set(rc={'figure.figsize':(11.7,8.27)})\n",
    "ax = sns.scatterplot(data=dfr_year_month_revs, x='year', y='month', size='reviews', hue='reviews', sizes=(50,2000))\n",
    "sns.move_legend(ax, 'lower left')\n",
    "plt.show()"
   ]
  },
  {
   "cell_type": "code",
   "execution_count": null,
   "id": "38ccd5f9",
   "metadata": {},
   "outputs": [],
   "source": [
    "# both of the lines below work - that's the way to handle 'unusual' column names in Python\n",
    "# dfr_min_max = dfr.groupby('listing_id').date.agg([np.min, np.max, np.count_nonzero])\n",
    "dfr_min_max = dfr.groupby('listing_id')['date'].agg([np.min, np.max, np.count_nonzero])\n",
    "\n",
    "# w_min_max = qgrid.show_grid(dfr_min_max)\n",
    "# w_min_max"
   ]
  },
  {
   "cell_type": "code",
   "execution_count": null,
   "id": "9a368283",
   "metadata": {
    "scrolled": true
   },
   "outputs": [],
   "source": [
    "# dfr_revs_per_month = dfr.groupby('listing_id')['year_month'].agg([np.min, np.max, np.count_nonzero])\n",
    "dfr_revs_per_month = dfr.groupby(['month'])['month'].agg(np.count_nonzero)\n",
    "dfr_revs_per_month = dfr_revs_per_month.to_frame()\n",
    "dfr_revs_per_month.columns = ['revs_per_month']\n",
    "print(type(dfr_revs_per_month))\n",
    "print(dfr_revs_per_month.columns)\n",
    "print(dfr_revs_per_month.dtypes)\n",
    "\n",
    "dfr_revs_per_month\n",
    "\n"
   ]
  },
  {
   "cell_type": "code",
   "execution_count": null,
   "id": "7c9a5ec1",
   "metadata": {
    "scrolled": false
   },
   "outputs": [],
   "source": [
    "sns.barplot(data=dfr_year_month_revs, x=dfr_year_month_revs.month, y=dfr_year_month_revs.reviews, estimator=np.sum)"
   ]
  },
  {
   "cell_type": "code",
   "execution_count": null,
   "id": "7795e677",
   "metadata": {
    "scrolled": false
   },
   "outputs": [],
   "source": [
    "sns.barplot(data=dfr_year_month_revs, x=dfr_year_month_revs.year, y=dfr_year_month_revs.reviews, estimator=np.sum)"
   ]
  }
 ],
 "metadata": {
  "kernelspec": {
   "display_name": "Python 3 (ipykernel)",
   "language": "python",
   "name": "python3"
  },
  "language_info": {
   "codemirror_mode": {
    "name": "ipython",
    "version": 3
   },
   "file_extension": ".py",
   "mimetype": "text/x-python",
   "name": "python",
   "nbconvert_exporter": "python",
   "pygments_lexer": "ipython3",
   "version": "3.11.5"
  },
  "varInspector": {
   "cols": {
    "lenName": 16,
    "lenType": 16,
    "lenVar": 40
   },
   "kernels_config": {
    "python": {
     "delete_cmd_postfix": "",
     "delete_cmd_prefix": "del ",
     "library": "var_list.py",
     "varRefreshCmd": "print(var_dic_list())"
    },
    "r": {
     "delete_cmd_postfix": ") ",
     "delete_cmd_prefix": "rm(",
     "library": "var_list.r",
     "varRefreshCmd": "cat(var_dic_list()) "
    }
   },
   "types_to_exclude": [
    "module",
    "function",
    "builtin_function_or_method",
    "instance",
    "_Feature"
   ],
   "window_display": false
  }
 },
 "nbformat": 4,
 "nbformat_minor": 5
}
